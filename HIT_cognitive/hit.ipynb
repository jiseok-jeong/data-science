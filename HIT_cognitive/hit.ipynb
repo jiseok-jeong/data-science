{
 "cells": [
  {
   "cell_type": "code",
   "execution_count": 2,
   "metadata": {},
   "outputs": [
    {
     "name": "stdout",
     "output_type": "stream",
     "text": [
      "Downloading from https://www.kaggle.com/api/v1/datasets/download/manishkc06/human-memory-and-cognition?dataset_version_number=1...\n"
     ]
    },
    {
     "name": "stderr",
     "output_type": "stream",
     "text": [
      "100%|██████████| 4.11M/4.11M [00:00<00:00, 8.68MB/s]"
     ]
    },
    {
     "name": "stdout",
     "output_type": "stream",
     "text": [
      "Extracting files...\n",
      "Path to dataset files: C:\\Users\\dcjc9\\.cache\\kagglehub\\datasets\\manishkc06\\human-memory-and-cognition\\versions\\1\n"
     ]
    },
    {
     "name": "stderr",
     "output_type": "stream",
     "text": [
      "\n"
     ]
    }
   ],
   "source": [
    "# import kagglehub\n",
    "\n",
    "# # Download latest version\n",
    "# path = kagglehub.dataset_download(\"manishkc06/human-memory-and-cognition\")\n",
    "\n",
    "# print(\"Path to dataset files:\", path)"
   ]
  },
  {
   "cell_type": "code",
   "execution_count": 20,
   "metadata": {},
   "outputs": [],
   "source": [
    "import pandas as pd\n",
    "from matplotlib import pyplot as plt\n",
    "import numpy as np\n",
    "import seaborn as sns\n",
    "\n",
    "#load data\n",
    "data = pd.read_csv('hippoCorpusV2.csv')\n",
    "#drop unnecessary variables\n",
    "data.drop(['AssignmentId', 'WorkerId', 'mostSurprising', 'recAgnPairId', 'recImgPairId', 'similarityReason', 'story', 'summary', 'mainEvent'], axis =1, inplace=True )"
   ]
  },
  {
   "cell_type": "code",
   "execution_count": 13,
   "metadata": {},
   "outputs": [
    {
     "data": {
      "text/plain": [
       "6    3422\n",
       "0    3363\n",
       "1      31\n",
       "2      23\n",
       "4      10\n",
       "3       3\n",
       "5       2\n",
       "dtype: int64"
      ]
     },
     "execution_count": 13,
     "metadata": {},
     "output_type": "execute_result"
    }
   ],
   "source": [
    "data['annotatorGender'].astype('category').cat.codes.value_counts()"
   ]
  },
  {
   "cell_type": "code",
   "execution_count": 14,
   "metadata": {},
   "outputs": [],
   "source": [
    "# controversial cleaning\n",
    "data.loc[data['annotatorGender'] == 'transwoman'] = 'man'\n",
    "data.loc[data['annotatorGender'] == 'transman'] = 'woman'\n",
    "data.loc[data['annotatorGender'] == 'na'] = np.nan\n",
    "data.loc[data['annotatorGender'] == 'nonBinary'] = np.nan\n",
    "data.loc[data['annotatorGender'] == 'other'] = np.nan"
   ]
  },
  {
   "cell_type": "code",
   "execution_count": 17,
   "metadata": {},
   "outputs": [],
   "source": [
    "data['annotatorGender'] = data['annotatorGender'].astype('category').cat.codes"
   ]
  },
  {
   "cell_type": "code",
   "execution_count": 19,
   "metadata": {},
   "outputs": [
    {
     "data": {
      "text/html": [
       "<div>\n",
       "<style scoped>\n",
       "    .dataframe tbody tr th:only-of-type {\n",
       "        vertical-align: middle;\n",
       "    }\n",
       "\n",
       "    .dataframe tbody tr th {\n",
       "        vertical-align: top;\n",
       "    }\n",
       "\n",
       "    .dataframe thead th {\n",
       "        text-align: right;\n",
       "    }\n",
       "</style>\n",
       "<table border=\"1\" class=\"dataframe\">\n",
       "  <thead>\n",
       "    <tr style=\"text-align: right;\">\n",
       "      <th></th>\n",
       "      <th>WorkTimeInSeconds</th>\n",
       "      <th>annotatorAge</th>\n",
       "      <th>annotatorGender</th>\n",
       "      <th>annotatorRace</th>\n",
       "      <th>distracted</th>\n",
       "      <th>draining</th>\n",
       "      <th>frequency</th>\n",
       "      <th>importance</th>\n",
       "      <th>logTimeSinceEvent</th>\n",
       "      <th>memType</th>\n",
       "      <th>openness</th>\n",
       "      <th>similarity</th>\n",
       "      <th>stressful</th>\n",
       "      <th>timeSinceEvent</th>\n",
       "    </tr>\n",
       "  </thead>\n",
       "  <tbody>\n",
       "    <tr>\n",
       "      <th>0</th>\n",
       "      <td>1641</td>\n",
       "      <td>25.0</td>\n",
       "      <td>0</td>\n",
       "      <td>white</td>\n",
       "      <td>1.0</td>\n",
       "      <td>1.0</td>\n",
       "      <td>NaN</td>\n",
       "      <td>3.0</td>\n",
       "      <td>4.49981</td>\n",
       "      <td>imagined</td>\n",
       "      <td>0.0</td>\n",
       "      <td>3.0</td>\n",
       "      <td>1.0</td>\n",
       "      <td>90.0</td>\n",
       "    </tr>\n",
       "  </tbody>\n",
       "</table>\n",
       "</div>"
      ],
      "text/plain": [
       "  WorkTimeInSeconds annotatorAge  annotatorGender annotatorRace distracted  \\\n",
       "0              1641         25.0                0         white        1.0   \n",
       "\n",
       "  draining frequency importance logTimeSinceEvent   memType openness  \\\n",
       "0      1.0       NaN        3.0           4.49981  imagined      0.0   \n",
       "\n",
       "  similarity stressful timeSinceEvent  \n",
       "0        3.0       1.0           90.0  "
      ]
     },
     "execution_count": 19,
     "metadata": {},
     "output_type": "execute_result"
    }
   ],
   "source": [
    "data.head(1)"
   ]
  },
  {
   "cell_type": "code",
   "execution_count": 30,
   "metadata": {},
   "outputs": [
    {
     "data": {
      "image/png": "[encoded data removed]",
      "text/plain": [
       "<Figure size 640x480 with 1 Axes>"
      ]
     },
     "metadata": {},
     "output_type": "display_data"
    }
   ],
   "source": [
    "# Analyze the relationship \n",
    "sns.boxplot(x=data['annotatorRace'], y=data['stressful'])\n",
    "plt.title(\"Relationship between Dragining and Race\")\n",
    "plt.xlabel(\"draining\")\n",
    "plt.ylabel(\"race\")\n",
    "plt.show()"
   ]
  },
  {
   "cell_type": "code",
   "execution_count": null,
   "metadata": {},
   "outputs": [],
   "source": []
  }
 ],
 "metadata": {
  "kernelspec": {
   "display_name": "base",
   "language": "python",
   "name": "python3"
  },
  "language_info": {
   "codemirror_mode": {
    "name": "ipython",
    "version": 3
   },
   "file_extension": ".py",
   "mimetype": "text/x-python",
   "name": "python",
   "nbconvert_exporter": "python",
   "pygments_lexer": "ipython3",
   "version": "3.9.13"
  }
 },
 "nbformat": 4,
 "nbformat_minor": 2
}
